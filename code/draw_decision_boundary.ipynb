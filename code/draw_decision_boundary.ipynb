{
 "cells": [
  {
   "cell_type": "code",
   "execution_count": 1,
   "metadata": {},
   "outputs": [],
   "source": [
    "import argparse\n",
    "import logging\n",
    "import os\n",
    "import time\n",
    "\n",
    "import torch.nn as nn\n",
    "import torch.optim as optim\n",
    "from torch.backends import cudnn\n",
    "from torch.utils.tensorboard import SummaryWriter\n",
    "\n",
    "from models.preact_resnet import PreActResNet18\n",
    "from models.resnet import ResNet18\n",
    "from utils.util import *\n",
    "from utils.deepfool import *\n",
    "import math\n",
    "import matplotlib.pyplot as plt\n",
    "import copy\n",
    "from matplotlib.ticker import (AutoMinorLocator, MultipleLocator)"
   ]
  },
  {
   "cell_type": "code",
   "execution_count": 2,
   "metadata": {},
   "outputs": [
    {
     "name": "stdout",
     "output_type": "stream",
     "text": [
      "Files already downloaded and verified\n"
     ]
    }
   ],
   "source": [
    "torch.manual_seed(0)\n",
    "device='cuda'\n",
    "dataset_path='./data'\n",
    "CHECKPOINT_DIR = '../../../../scratch/pekang/checkpoint/'\n",
    "\n",
    "\n",
    "transform_test = transforms.Compose([\n",
    "    transforms.ToTensor(),\n",
    "])\n",
    "testset = datasets.CIFAR10(root=dataset_path, train=False, download=True, transform=transform_test)\n",
    "subsetA, _ = torch.utils.data.random_split(testset, [5, 9995], generator=torch.Generator().manual_seed(6666666666))\n",
    "testloadersingle = torch.utils.data.DataLoader(subsetA, batch_size=1, shuffle=False)\n",
    "\n",
    "normalize = Normalize(cifar10_mu, cifar10_std)"
   ]
  },
  {
   "cell_type": "code",
   "execution_count": 3,
   "metadata": {},
   "outputs": [],
   "source": [
    "# Draw the cross-section of decision boundary around a specific input by giving two vectors\n",
    "def draw_decision_boundary(model, inputs, targets, e1_grad, e1_grad_norm, e2_grad, e2_grad_norm, palette, ax, label1, label2):\n",
    "    \n",
    "    cos = cal_cos_similarity(e1_grad, e2_grad, e1_grad_norm, e2_grad_norm)\n",
    "    angle = math.acos(cos)\n",
    "    matrix = np.array([[1, -1 / math.tan(angle)], [0, 1 / math.sin(angle)]])\n",
    "    r_matrix = np.linalg.inv(matrix)\n",
    "    e1 = e1_grad / e1_grad_norm\n",
    "    e2 = e2_grad / e2_grad_norm\n",
    "    \n",
    "    print(f'e1_grad_norm {round(e1_grad_norm.item(), 2)}, e2_grad_norm {round(e2_grad_norm.item(), 2)}, angle {round(angle / math.pi * 180, 2)}, cos {round(cos.item(), 2)}')\n",
    "    x_indices = np.linspace(-1.5, 2.5, 128)\n",
    "    y_indices = np.linspace(-1.5, 2.5, 128)\n",
    "    x_array = np.outer(np.linspace(-1.5, 2.5, 128), np.ones(128)) \n",
    "    y_array = x_array.copy().T \n",
    "    label_list = []\n",
    "    for x_ind in x_indices:\n",
    "        perturbed_intputs = []\n",
    "        for y_ind in y_indices:\n",
    "            new_index = np.matmul(matrix, [x_ind, y_ind])\n",
    "            new_inputs = inputs + new_index[0] * e1 + new_index[1] * e2\n",
    "            perturbed_intputs.append(new_inputs)\n",
    "\n",
    "        perturbed_intputs_cat = torch.cat(perturbed_intputs, dim=0)\n",
    "        perturbed_outputs = model(normalize(perturbed_intputs_cat))\n",
    "\n",
    "        t = torch.zeros(perturbed_intputs_cat.shape[0], dtype=torch.long).fill_(targets.item()).to(device)\n",
    "        perturbed_loss = F.cross_entropy(perturbed_outputs, t, reduction='none').detach()\n",
    "        label_list.append(perturbed_outputs.max(dim=1)[1].cpu().numpy()[None,:])\n",
    "    label_array = np.concatenate(label_list)\n",
    "    colors = np.empty(label_array.shape, dtype='<U7')\n",
    "    for ix,iy in np.ndindex(label_array.shape):\n",
    "        colors[ix,iy] = palette[label_array[ix,iy]]\n",
    "\n",
    "    e1_xy = np.matmul(r_matrix, np.array([e1_grad_norm.item(), 0]))\n",
    "    e2_xy = np.matmul(r_matrix, np.array([0, e2_grad_norm.item()]))\n",
    "    points = np.concatenate((e1_xy[None, :], e2_xy[None, :]))\n",
    "    x_e1 = np.linspace(0, e1_xy[0], 100)\n",
    "    y_e1 = np.linspace(0, e1_xy[1], 100)\n",
    "    x_e2 = np.linspace(0, e2_xy[0], 100)\n",
    "    y_e2 = np.linspace(0, e2_xy[1], 100)\n",
    "    \n",
    "    ax.scatter(x_array.flatten(), y_array.flatten(), s=1, c=colors.flatten(), marker=',')\n",
    "    ax.plot(x_e1, y_e1, 'black')\n",
    "    ax.plot(x_e2, y_e2, 'black')\n",
    "\n",
    "    for i, txt in enumerate([label1, label2]):\n",
    "        text = ax.annotate(txt, (points[i, 0], points[i, 1]))\n",
    "        text.set_fontsize(16)"
   ]
  },
  {
   "cell_type": "markdown",
   "metadata": {},
   "source": [
    "# Draw the cross-section of decision boundary spaned by $DF^2$ perturbation and FGSM"
   ]
  },
  {
   "cell_type": "code",
   "execution_count": 4,
   "metadata": {},
   "outputs": [],
   "source": [
    "def draw_fgsm(loader, epoch, resumed_model_name='0226_cifar10_none_w_proj_eps_8', epsilon_num=8, train_fgsm_ratio=1):\n",
    "    resumed_model_name = resumed_model_name + f'_{epoch}.pth'\n",
    "    print('======================' + resumed_model_name + '======================')\n",
    "    epsilon = epsilon_num / 255.\n",
    "    model = PreActResNet18()\n",
    "    if torch.cuda.device_count() > 1:\n",
    "        model = torch.nn.DataParallel(model)\n",
    "    model = model.to(device)\n",
    "    checkpoint = torch.load(os.path.join(CHECKPOINT_DIR, resumed_model_name))\n",
    "    model.load_state_dict(checkpoint['model'])\n",
    "    model.eval()\n",
    "\n",
    "    for batch_idx, (inputs, targets) in enumerate(loader):\n",
    "        print('input image index', batch_idx)\n",
    "\n",
    "        inputs, targets = inputs.to(device), targets.to(device)\n",
    "\n",
    "        loop, perturbation50 = deepfool_train(model, inputs, normalize, overshoot=0.02, max_iter=50, norm_dist='l_2', device=device, random_start=False, early_stop=True)\n",
    "        perturbation50_norm = perturbation50.view(perturbation50.shape[0], -1).norm(dim=1)\n",
    "\n",
    "        zero = torch.zeros_like(inputs).to(device)\n",
    "        zero.requires_grad = True\n",
    "        output = model(normalize(inputs + zero))\n",
    "        loss = F.cross_entropy(output, targets)\n",
    "        loss.backward()\n",
    "        grad_input = zero.grad.detach()\n",
    "        fgsm_delta = train_fgsm_ratio * epsilon * torch.sign(grad_input)\n",
    "        fgsm_delta = clamp(fgsm_delta, lower_limit - inputs, upper_limit - inputs).detach()\n",
    "        fgsm_delta_norm = fgsm_delta.view(fgsm_delta.shape[0], -1).norm(dim=1)\n",
    "\n",
    "        fig, ax1 = plt.subplots(1, 1, figsize=(5,5))\n",
    "        \n",
    "        # different red colors to represent different class\n",
    "        palette = {0: '#d71d1d', 1: '#e22828', 2: '#e43a3a', 3: '#e74b4b', 4: '#e95d5d', 5: '#eb6f6f', 6: '#ee8181', 7: '#f09393', 8: '#f3a5a5', 9: '#f5b7b7'}\n",
    "        \n",
    "        # set the true class to be green\n",
    "        palette[targets.item()] = '#6ec26e'\n",
    "        \n",
    "        print(f\"between df50 and fgsm\")\n",
    "        draw_decision_boundary(model, inputs, targets, perturbation50, perturbation50_norm, fgsm_delta, fgsm_delta_norm, palette, ax1, '$\\mathrm{DF}^2$', 'FGSM')\n",
    "        plt.show()\n",
    "        print(\"+++++++++++++++++++++++++++++++++++++++++++++++++++++++++++++++++++++++++++++++++++++++++++++\")\n",
    "#         plt.close()"
   ]
  },
  {
   "cell_type": "code",
   "execution_count": null,
   "metadata": {
    "scrolled": false
   },
   "outputs": [
    {
     "name": "stdout",
     "output_type": "stream",
     "text": [
      "======================0226_cifar10_none_w_proj_eps_8_15.pth======================\n",
      "input image index 0\n",
      "between df50 and fgsm\n",
      "e1_grad_norm 0.04, e2_grad_norm 1.67, angle 60.9, cos 0.49\n"
     ]
    },
    {
     "data": {
      "image/png": "[encoded data removed]",
      "text/plain": [
       "<Figure size 360x360 with 1 Axes>"
      ]
     },
     "metadata": {
      "needs_background": "light"
     },
     "output_type": "display_data"
    },
    {
     "name": "stdout",
     "output_type": "stream",
     "text": [
      "+++++++++++++++++++++++++++++++++++++++++++++++++++++++++++++++++++++++++++++++++++++++++++++\n",
      "input image index 1\n",
      "between df50 and fgsm\n",
      "e1_grad_norm 0.01, e2_grad_norm 1.74, angle 126.92, cos -0.6\n"
     ]
    }
   ],
   "source": [
    "resumed_model_name = '0226_cifar10_none_w_proj_eps_8'\n",
    "epoch = 15\n",
    "draw_fgsm(testloadersingle, epoch, resumed_model_name=resumed_model_name, epsilon_num=8, train_fgsm_ratio=1)"
   ]
  },
  {
   "cell_type": "markdown",
   "metadata": {},
   "source": [
    "# Draw the cross-section of decision boundary spaned by  $DF^2$  perturbation and $DF^{\\infty}-1$"
   ]
  },
  {
   "cell_type": "code",
   "execution_count": null,
   "metadata": {},
   "outputs": [],
   "source": [
    "def draw_df(loader, epoch, resumed_model_name='0226_cifar10_deepfool_8', epsilon_num=8, train_overshoot=0.02):\n",
    "    resumed_model_name = resumed_model_name + f'_{epoch}.pth'\n",
    "    print('======================' + resumed_model_name + '======================')\n",
    "    epsilon = epsilon_num / 255.\n",
    "    model = PreActResNet18()\n",
    "    if torch.cuda.device_count() > 1:\n",
    "        model = torch.nn.DataParallel(model)\n",
    "    model = model.to(device)\n",
    "    checkpoint = torch.load(os.path.join(CHECKPOINT_DIR, resumed_model_name))\n",
    "    model.load_state_dict(checkpoint['model'])\n",
    "    model.eval()\n",
    "\n",
    "    for batch_idx, (inputs, targets) in enumerate(loader):\n",
    "        print('input image index', batch_idx)\n",
    "        inputs, targets = inputs.to(device), targets.to(device)\n",
    "\n",
    "        loop, perturbation50 = deepfool_train(model, inputs, normalize, overshoot=0.02, max_iter=50, norm_dist='l_2', device=device, random_start=False, early_stop=True)\n",
    "        perturbation50_norm = perturbation50.view(perturbation50.shape[0], -1).norm(dim=1)\n",
    "\n",
    "        _, perturbation = deepfool_train(model, inputs, normalize, overshoot=train_overshoot, max_iter=1, norm_dist='l_inf', device=device, random_start=False, early_stop=False)\n",
    "        perturbation = torch.clamp(perturbation, min=-epsilon, max=epsilon)\n",
    "        perturbation = clamp(perturbation, lower_limit - inputs, upper_limit - inputs).detach()\n",
    "        perturbation_norm = perturbation.view(perturbation.shape[0], -1).norm(dim=1)\n",
    "\n",
    "        fig, ax1 = plt.subplots(1, 1, figsize=(5,5))\n",
    "        palette = {0: '#d71d1d', 1: '#e22828', 2: '#e43a3a', 3: '#e74b4b', 4: '#e95d5d', 5: '#eb6f6f', 6: '#ee8181', 7: '#f09393', 8: '#f3a5a5', 9: '#f5b7b7'}\n",
    "        palette[targets.item()] = '#6ec26e'\n",
    "        print(f\"between df50 and df\")\n",
    "        draw_decision_boundary(model, inputs, targets, perturbation50, perturbation50_norm, perturbation, perturbation_norm, palette, ax1, '$\\mathrm{DF}^2$', '$\\mathrm{DF}^{\\infty}$-1')\n",
    "        plt.show()\n",
    "        print(\"+++++++++++++++++++++++++++++++++++++++++++++++++++++++++++++++++++++++++++++++++++++++++++++\")\n",
    "#         plt.close()"
   ]
  },
  {
   "cell_type": "code",
   "execution_count": null,
   "metadata": {
    "scrolled": false
   },
   "outputs": [],
   "source": [
    "resumed_model_name = '0226_cifar10_deepfool_8'\n",
    "epoch = 70\n",
    "draw_df(testloadersingle, epoch, resumed_model_name=resumed_model_name, epsilon_num=8, train_overshoot=0.02)"
   ]
  },
  {
   "cell_type": "code",
   "execution_count": null,
   "metadata": {},
   "outputs": [],
   "source": []
  }
 ],
 "metadata": {
  "kernelspec": {
   "display_name": "Python 3",
   "language": "python",
   "name": "python3"
  },
  "language_info": {
   "codemirror_mode": {
    "name": "ipython",
    "version": 3
   },
   "file_extension": ".py",
   "mimetype": "text/x-python",
   "name": "python",
   "nbconvert_exporter": "python",
   "pygments_lexer": "ipython3",
   "version": "3.8.5"
  }
 },
 "nbformat": 4,
 "nbformat_minor": 4
}
